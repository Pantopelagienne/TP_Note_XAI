{
  "nbformat": 4,
  "nbformat_minor": 0,
  "metadata": {
    "colab": {
      "provenance": [],
      "collapsed_sections": [
        "pqTAr3kzygCv"
      ],
      "authorship_tag": "ABX9TyP6rt9IXnV3Kz5MLfKkyZu/",
      "include_colab_link": true
    },
    "kernelspec": {
      "name": "python3",
      "display_name": "Python 3"
    },
    "language_info": {
      "name": "python"
    }
  },
  "cells": [
    {
      "cell_type": "markdown",
      "metadata": {
        "id": "view-in-github",
        "colab_type": "text"
      },
      "source": [
        "<a href=\"https://colab.research.google.com/github/Pantopelagienne/TP_Note_XAI/blob/main/TP_XAI.ipynb\" target=\"_parent\"><img src=\"https://colab.research.google.com/assets/colab-badge.svg\" alt=\"Open In Colab\"/></a>"
      ]
    },
    {
      "cell_type": "markdown",
      "source": [
        "#  🧠 Comprendre son modèle de Machine Learning grâce à l'Explicabilité 🤖\n",
        "\n",
        "[Google Form](https://docs.google.com/forms/d/e/1FAIpQLSeE30hbSmbQO8vjiT6UJdk9hAR6xOTpDks71E6BBre1dea0AA/viewform?usp=sf_link)\n"
      ],
      "metadata": {
        "id": "q9YS5Hf_v-rq"
      }
    },
    {
      "cell_type": "markdown",
      "source": [
        "# 📥 Imports"
      ],
      "metadata": {
        "id": "hsj6RyZ5wHpK"
      }
    },
    {
      "cell_type": "code",
      "execution_count": null,
      "metadata": {
        "id": "wEC63xnXv7nu"
      },
      "outputs": [],
      "source": [
        "# Installer les packages requis\n",
        "!pip install pycaret explainerdashboard pycaret[analysis] --upgrade jupyter-dash shap lime"
      ]
    },
    {
      "cell_type": "code",
      "source": [
        "# Importer les librairies nécessaires\n",
        "import pandas as pd\n",
        "from pycaret.classification import *\n",
        "from explainerdashboard import ClassifierExplainer, ExplainerDashboard\n",
        "import shap\n",
        "import lime.lime_tabular\n",
        "from sklearn.preprocessing import LabelEncoder\n",
        "from sklearn.datasets import load_iris\n",
        "from sklearn.cluster import KMeans\n",
        "import numpy as np\n",
        "import matplotlib.pyplot as plt\n",
        "from tensorflow.keras.applications import VGG16\n",
        "from tensorflow.keras.applications.vgg16 import preprocess_input, decode_predictions\n",
        "from tensorflow.keras.preprocessing import image\n",
        "from lime import lime_image\n",
        "from skimage.segmentation import mark_boundaries"
      ],
      "metadata": {
        "id": "DKl-NxeQwN9_"
      },
      "execution_count": null,
      "outputs": []
    },
    {
      "cell_type": "markdown",
      "source": [
        "# 1- Utilisation d'un Explainer Dashboard 📊\n",
        "\n",
        "**Objectif** : Dans cette première partie, vous apprendrez à créer  et analyser un tableau de bord interactif avec la librairie ExplainerDashboard qui vous aidera à visualiser et comprendre les performances et les prédictions du modèle.\n",
        "\n",
        "Google Form : Page 2 Partie SHAP, Page 2 Partie Contrefactuelles"
      ],
      "metadata": {
        "id": "jlbXEcbGwW18"
      }
    },
    {
      "cell_type": "markdown",
      "source": [
        "## Chargement des données"
      ],
      "metadata": {
        "id": "5_9j13_awawQ"
      }
    },
    {
      "cell_type": "markdown",
      "source": [
        "Caractéristiques du dataset :\n",
        "\n",
        "*   Age\n",
        "*   Sexe\n",
        "* Job : Niveau de compétence et type de résidence (0 - unskilled and non-resident, 1 - unskilled and resident, 2 - skilled, 3 - highly skilled)\n",
        "* Housing : Type de logement (own, rent, or free)\n",
        "* Saving accounts : Niveau des comptes d'épargne (little, moderate, quite rich, rich)\n",
        "* Checking account : Montant des comptes courant\n",
        "* Credit amount : Montant du crédit\n",
        "* Duration : Durée du crédit en mois\n",
        "* Purpose : Objet du crédit (car, furniture/equipment, radio/TV, domestic appliances, repairs, education, business, vacation/others)"
      ],
      "metadata": {
        "id": "8Yn9T4db47zj"
      }
    },
    {
      "cell_type": "code",
      "source": [
        "# Charger le dataset\n",
        "dataset = pd.read_csv(\"/path_to_your_file\", sep=\",\")\n",
        "dataset.drop(columns=dataset.columns[0], axis=1, inplace=True)"
      ],
      "metadata": {
        "id": "rTgOnZmKwZg0"
      },
      "execution_count": null,
      "outputs": []
    },
    {
      "cell_type": "code",
      "source": [
        "# Définir la variable cible\n",
        "target = \"Risk\""
      ],
      "metadata": {
        "id": "aZIBDWW4w0dw"
      },
      "execution_count": null,
      "outputs": []
    },
    {
      "cell_type": "markdown",
      "source": [
        "## Entraînement du modèle"
      ],
      "metadata": {
        "id": "DRiolAcvw4dx"
      }
    },
    {
      "cell_type": "code",
      "source": [
        "# Setup l'environnement PyCaret\n",
        "exp1 = setup(dataset, target=target, session_id=123)"
      ],
      "metadata": {
        "id": "p030E_e3w6e8"
      },
      "execution_count": null,
      "outputs": []
    },
    {
      "cell_type": "code",
      "source": [
        "# Comparer les modèles\n",
        "best_model = compare_models()"
      ],
      "metadata": {
        "id": "0hFfrRedxBHR"
      },
      "execution_count": null,
      "outputs": []
    },
    {
      "cell_type": "code",
      "source": [
        "# Entraîner le meilleur modèle\n",
        "model = create_model(best_model)"
      ],
      "metadata": {
        "id": "YGp8-CB5xSDD",
        "collapsed": true
      },
      "execution_count": null,
      "outputs": []
    },
    {
      "cell_type": "code",
      "source": [
        "# Finaliser le modèle\n",
        "final_model = finalize_model(model)"
      ],
      "metadata": {
        "id": "aQDbZfwNxXBq"
      },
      "execution_count": null,
      "outputs": []
    },
    {
      "cell_type": "markdown",
      "source": [
        "## Création de l'Explainer Dashboard"
      ],
      "metadata": {
        "id": "ggCbJSGWxY87"
      }
    },
    {
      "cell_type": "code",
      "source": [
        "# Remplir les valeurs manquantes pour les variables catégorielles\n",
        "categorical_columns = [\"Sex\", \"Housing\", \"Saving accounts\", \"Checking account\", \"Purpose\"]\n",
        "dataset[categorical_columns] = dataset[categorical_columns].fillna(\"missing\")"
      ],
      "metadata": {
        "id": "2X4XpMTlxdZ-"
      },
      "execution_count": null,
      "outputs": []
    },
    {
      "cell_type": "code",
      "source": [
        "X = dataset.drop(columns=['Risk'])\n",
        "y = get_config(\"y_transformed\")"
      ],
      "metadata": {
        "id": "GCnbFaCCxf-8"
      },
      "execution_count": null,
      "outputs": []
    },
    {
      "cell_type": "code",
      "source": [
        "# Créer un explainer pour le modèle\n",
        "explainer = ClassifierExplainer(final_model, X, y, labels=['bad','good'])"
      ],
      "metadata": {
        "id": "kmvf4-0zxkQu"
      },
      "execution_count": null,
      "outputs": []
    },
    {
      "cell_type": "code",
      "source": [
        "# Créer le dashboard\n",
        "dashboard = ExplainerDashboard(explainer,\n",
        "  importances=True,\n",
        "  model_summary=False,\n",
        "  contributions=True,\n",
        "  whatif=True,\n",
        "  shap_dependence=False,\n",
        "  shap_interaction=False,\n",
        "  decision_trees=False,\n",
        "  title=\"Credit Risk Model Explainer\",\n",
        "  description=\"This dashboard provides insights into the credit risk model using SHAP.\")"
      ],
      "metadata": {
        "id": "Zf4SvGhuxr6N"
      },
      "execution_count": null,
      "outputs": []
    },
    {
      "cell_type": "code",
      "source": [
        "# Lancez le dashboard\n",
        "dashboard.run(port=8050)"
      ],
      "metadata": {
        "id": "dy32lo7LxusM"
      },
      "execution_count": null,
      "outputs": []
    },
    {
      "cell_type": "markdown",
      "source": [
        "# 2- Comparaison de SHAP et LIME ⚖️\n",
        "\n",
        "**Objectif** : Cette partie vous permettra de comparer deux méthodes d'explicabilité, SHAP et LIME, en les appliquant à un dataset de classification bien connu, le dataset Iris.\n",
        "\n",
        "Google Form : Page 3"
      ],
      "metadata": {
        "id": "pqTAr3kzygCv"
      }
    },
    {
      "cell_type": "code",
      "source": [
        "# Charger le dataset Iris\n",
        "iris = load_iris()\n",
        "X = pd.DataFrame(iris.data, columns=iris.feature_names)\n",
        "y = iris.target"
      ],
      "metadata": {
        "id": "vGMHSJneyncN"
      },
      "execution_count": null,
      "outputs": []
    },
    {
      "cell_type": "markdown",
      "source": [
        "Mettez en place un nouvel environnement PyCaret, entraînez un random forest (pour pouvoir calculer TreeShap par la suite)"
      ],
      "metadata": {
        "id": "m9qYi0jqB8tn"
      }
    },
    {
      "cell_type": "code",
      "source": [
        "#"
      ],
      "metadata": {
        "id": "mYoX0LDICIZG"
      },
      "execution_count": null,
      "outputs": []
    },
    {
      "cell_type": "markdown",
      "source": [
        "Initialisez un explainer LIME et un explainer SHAP, sélectionnez une instance du dataset en particulier puis comparez les résultats (à l'aide de bar plots par exemple)"
      ],
      "metadata": {
        "id": "ihM-QJoTBr_b"
      }
    },
    {
      "cell_type": "code",
      "source": [
        "#"
      ],
      "metadata": {
        "id": "6M5dOfoWzS6I"
      },
      "execution_count": null,
      "outputs": []
    },
    {
      "cell_type": "markdown",
      "source": [
        "# 3- 🍋 Expliquer les prédictions d'un modèle avec LIME sur des images 🖼️\n",
        "\n",
        "**Objectif** : Dans cette section, vous allez utiliser LIME pour expliquer les prédictions d'un modèle de classification d'images pré-entraîné, VGG16. Vous apprendrez à identifier et interpréter les régions de l'image qui influencent le plus les prédictions du modèle, vous permettant ainsi de mieux comprendre comment et pourquoi le modèle prend certaines décisions.\n",
        "\n",
        "Google Form : Page 4"
      ],
      "metadata": {
        "id": "CKUcvR0ExxIX"
      }
    },
    {
      "cell_type": "code",
      "source": [
        "# Charger le modèle pré-entraîné VGG16\n",
        "model = VGG16(weights='imagenet')"
      ],
      "metadata": {
        "id": "aRDj1s1Bx18h"
      },
      "execution_count": null,
      "outputs": []
    },
    {
      "cell_type": "code",
      "source": [
        "# Fonction pour charger et prétraiter l'image\n",
        "def load_image(img_path):\n",
        "    img = image.load_img(img_path, target_size=(224, 224))\n",
        "    img = image.img_to_array(img)\n",
        "    img = np.expand_dims(img, axis=0)\n",
        "    img = preprocess_input(img)\n",
        "    return img"
      ],
      "metadata": {
        "id": "KhAhtOGzx5Y-"
      },
      "execution_count": null,
      "outputs": []
    },
    {
      "cell_type": "markdown",
      "source": [
        "Choisissez une image à étiqueter"
      ],
      "metadata": {
        "id": "mudxX_2MMbq8"
      }
    },
    {
      "cell_type": "code",
      "source": [
        "# Chemin de l'image à étiquetter\n",
        "img_path = \"/path_to_your_file\""
      ],
      "metadata": {
        "id": "Cph7SKDTx8Te"
      },
      "execution_count": null,
      "outputs": []
    },
    {
      "cell_type": "code",
      "source": [
        "# Charger et prétraiter l'image\n",
        "img = load_image(img_path)"
      ],
      "metadata": {
        "id": "jnVuwDPcyAxQ"
      },
      "execution_count": null,
      "outputs": []
    },
    {
      "cell_type": "code",
      "source": [
        "# Prédire l'étiquette de l'image\n",
        "preds = model.predict(img)\n",
        "print('Predicted:', decode_predictions(preds, top=3)[0])"
      ],
      "metadata": {
        "id": "woQg3Bk_yCvR"
      },
      "execution_count": null,
      "outputs": []
    },
    {
      "cell_type": "code",
      "source": [
        "# Fonction de prédiction pour LIME\n",
        "def predict(images):\n",
        "    images = preprocess_input(images)\n",
        "    return model.predict(images)"
      ],
      "metadata": {
        "id": "ddyVJK0oyFEi"
      },
      "execution_count": null,
      "outputs": []
    },
    {
      "cell_type": "code",
      "source": [
        "# Initialiser l'explainer de LIME\n",
        "explainer = lime_image.LimeImageExplainer()"
      ],
      "metadata": {
        "id": "pyHYafQ2yG7K"
      },
      "execution_count": null,
      "outputs": []
    },
    {
      "cell_type": "code",
      "source": [
        "# Expliquer la prédiction de l'image\n",
        "explanation = explainer.explain_instance(img[0].astype('double'),\n",
        "                                         predict,\n",
        "                                         top_labels=40,\n",
        "                                         hide_color=0,\n",
        "                                         num_samples=1000)"
      ],
      "metadata": {
        "id": "ga5gJl10yJb8"
      },
      "execution_count": null,
      "outputs": []
    },
    {
      "cell_type": "code",
      "source": [
        "# Obtenir le superpixel et le masque pour l'explication\n",
        "temp, mask = explanation.get_image_and_mask(explanation.top_labels[0],\n",
        "                                            posit ive_only=True,\n",
        "                                            num_features=5,\n",
        "                                            hide_rest=False)"
      ],
      "metadata": {
        "id": "pwWQ64h5yLj1"
      },
      "execution_count": null,
      "outputs": []
    },
    {
      "cell_type": "code",
      "source": [
        "# Afficher les superpixels importants\n",
        "plt.figure(figsize=(8, 8))\n",
        "plt.subplot(1, 2, 1)\n",
        "plt.imshow(mark_boundaries(temp / 255.0, mask))\n",
        "plt.title(\"Superpixels importants\")"
      ],
      "metadata": {
        "id": "nNgbE9IGyY1M"
      },
      "execution_count": null,
      "outputs": []
    },
    {
      "cell_type": "markdown",
      "source": [
        "# 4- Clusters d'explications 🗂️\n",
        "\n",
        "**Objectif** : Dans cette section, vous allez explorer comment les valeurs SHAP peuvent être utilisées pour créer des clusters d'explications.\n",
        "\n",
        "Références : [How to make the most of local explanations: effective\n",
        "clustering based on influences](https://hal.science/hal-04189455/document)"
      ],
      "metadata": {
        "id": "mgedhcz5yj1p"
      }
    },
    {
      "cell_type": "markdown",
      "source": [
        "Utilisez un algorithme de clustering (ex : K-means) sur les explications SHAP ou LIME d'un modèle. Vous pouvez réutiliser celles calculées dans la partie 2. Libre à vous de choisir un nouveau dataset et d'entraîner un nouveau modèle (sur un problème de classification)"
      ],
      "metadata": {
        "id": "VHQ8CLufDCmz"
      }
    },
    {
      "cell_type": "code",
      "source": [
        "#"
      ],
      "metadata": {
        "id": "EwjBg1yaJySh"
      },
      "execution_count": null,
      "outputs": []
    },
    {
      "cell_type": "markdown",
      "source": [
        "Comparez ensuite les résultats obtenus avec les classifications des points d'origine"
      ],
      "metadata": {
        "id": "rAVHNxVVDrLi"
      }
    },
    {
      "cell_type": "code",
      "source": [
        "#"
      ],
      "metadata": {
        "id": "wfkNGFyxEBg4"
      },
      "execution_count": null,
      "outputs": []
    },
    {
      "cell_type": "markdown",
      "source": [
        "# 🦆"
      ],
      "metadata": {
        "id": "qyH1aqOJKPxh"
      }
    }
  ]
}